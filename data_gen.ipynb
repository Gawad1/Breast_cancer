{
  "nbformat": 4,
  "nbformat_minor": 0,
  "metadata": {
    "colab": {
      "provenance": [],
      "authorship_tag": "ABX9TyOfUQ4cNgPJB4Mgb8iJMpVc",
      "include_colab_link": true
    },
    "kernelspec": {
      "name": "python3",
      "display_name": "Python 3"
    },
    "language_info": {
      "name": "python"
    }
  },
  "cells": [
    {
      "cell_type": "markdown",
      "metadata": {
        "id": "view-in-github",
        "colab_type": "text"
      },
      "source": [
        "<a href=\"https://colab.research.google.com/github/Gawad1/Breast_cancer/blob/main/data_gen.ipynb\" target=\"_parent\"><img src=\"https://colab.research.google.com/assets/colab-badge.svg\" alt=\"Open In Colab\"/></a>"
      ]
    },
    {
      "cell_type": "code",
      "execution_count": 1,
      "metadata": {
        "colab": {
          "base_uri": "https://localhost:8080/"
        },
        "id": "1QQ-l9awDL5i",
        "outputId": "bd1d0c60-e2f7-4dd4-8f55-671c01f1ebe7"
      },
      "outputs": [
        {
          "output_type": "stream",
          "name": "stdout",
          "text": [
            "['fasting blood sugar', 'systolic', 'ALT', 'waist(cm)', 'hearing(right)', 'LDL', 'Cholesterol', 'height(cm)', 'AST', 'age']\n"
          ]
        }
      ],
      "source": [
        "import random\n",
        "import pandas as pd\n",
        "import numpy as np\n",
        "\n",
        "id_1 = 7403 #change to first student id\n",
        "id_2 = 7594 #change to second student id\n",
        "id_3 = 7674 #change to third student id \"leave 0000 if team of 2\"\n",
        "random_seed = id_1+id_2+id_3\n",
        "random.seed(random_seed)\n",
        "data_path=\"Data.csv\"#replace with data path\n",
        "output_path=\"your_data.csv\"#replace with output data path\n",
        "\n",
        "all_data=pd.read_csv(data_path)\n",
        "all_columns = all_data.columns.tolist()\n",
        "\n",
        "target_column = 'smoking'\n",
        "\n",
        "all_columns.remove(target_column)\n",
        "\n",
        "selected_columns = random.sample(all_columns, 10)\n",
        "\n",
        "print(selected_columns) #MUST BE PRINTED\n",
        "selected_columns = np.append(selected_columns, target_column)\n",
        "sample_df = all_data[selected_columns].copy()\n",
        "sample_df.to_csv(output_path)   #From HERE YOU CAN SPLIT FOR TRAIN ,VALID AND TEST\n"
      ]
    }
  ]
}